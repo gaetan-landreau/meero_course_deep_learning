{
  "nbformat": 4,
  "nbformat_minor": 0,
  "metadata": {
    "colab": {
      "name": "course2.ipynb",
      "provenance": [],
      "authorship_tag": "ABX9TyOsY3hbF9gHkrgEHNc01Dju",
      "include_colab_link": true
    },
    "kernelspec": {
      "name": "python3",
      "display_name": "Python 3"
    },
    "language_info": {
      "name": "python"
    },
    "accelerator": "GPU",
    "gpuClass": "standard"
  },
  "cells": [
    {
      "cell_type": "markdown",
      "metadata": {
        "id": "view-in-github",
        "colab_type": "text"
      },
      "source": [
        "<a href=\"https://colab.research.google.com/github/gaetan-landreau/meero_course_deep_learning/blob/master/course2.ipynb\" target=\"_parent\"><img src=\"https://colab.research.google.com/assets/colab-badge.svg\" alt=\"Open In Colab\"/></a>"
      ]
    },
    {
      "cell_type": "markdown",
      "source": [
        "# Course 2: Rooms classification task in Deep Learning.\n",
        "\n",
        "\n",
        "### 1. Introduction\n",
        "*This notebook intends to give all the ressources required to perform a 11-classes room classification, based on Meero Real-Estate images.\n",
        "\n",
        "From a broad perspective, such task is first adressed through a Multi-Layers Perceptron. Considering one step beyond, we will build a Convolution Neural Network and train it on the same dataset to except training for a classification purpose.*\n",
        "\n",
        "Dataset used is still the RES one and is therefore made of 11 classes.\n",
        "\n",
        "\n",
        "\n",
        "\n",
        "\n",
        "\n"
      ],
      "metadata": {
        "id": "SUWGSG1pcWDu"
      }
    },
    {
      "cell_type": "code",
      "source": [
        "#@title Install Packages\n",
        "## All the different librairies that are required to launch our training shoud \n",
        "\n",
        "!pip install wandb\n",
        "!pip install opencv-python numpy torch torchvision "
      ],
      "metadata": {
        "id": "k2yNLzeqZhd3"
      },
      "execution_count": null,
      "outputs": []
    },
    {
      "cell_type": "code",
      "source": [
        "#@title Mount Drive volume \n",
        "from google.colab import drive\n",
        "drive.mount('/content/drive/')"
      ],
      "metadata": {
        "colab": {
          "base_uri": "https://localhost:8080/"
        },
        "cellView": "form",
        "id": "edIjwdenkheS",
        "outputId": "c6404575-eca1-43aa-e7d7-fb4bb62b08ab"
      },
      "execution_count": 7,
      "outputs": [
        {
          "output_type": "stream",
          "name": "stdout",
          "text": [
            "Mounted at /content/drive/\n"
          ]
        }
      ]
    },
    {
      "cell_type": "code",
      "source": [],
      "metadata": {
        "id": "mia8VRl0akRd"
      },
      "execution_count": 9,
      "outputs": []
    }
  ]
}