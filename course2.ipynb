{
  "nbformat": 4,
  "nbformat_minor": 0,
  "metadata": {
    "colab": {
      "name": "course2.ipynb",
      "provenance": [],
      "toc_visible": true,
      "authorship_tag": "ABX9TyMJ9SujwxWy6WCerDQJyaHm",
      "include_colab_link": true
    },
    "kernelspec": {
      "name": "python3",
      "display_name": "Python 3"
    },
    "language_info": {
      "name": "python"
    },
    "accelerator": "GPU",
    "gpuClass": "standard"
  },
  "cells": [
    {
      "cell_type": "markdown",
      "metadata": {
        "id": "view-in-github",
        "colab_type": "text"
      },
      "source": [
        "<a href=\"https://colab.research.google.com/github/gaetan-landreau/meero_course_deep_learning/blob/master/course2.ipynb\" target=\"_parent\"><img src=\"https://colab.research.google.com/assets/colab-badge.svg\" alt=\"Open In Colab\"/></a>"
      ]
    },
    {
      "cell_type": "markdown",
      "source": [
        "# Course 2: Rooms classification task in Deep Learning.\n",
        "\n",
        "\n",
        "This notebook intends to give all the ressources required to perform a 11-classes room classification, based on Meero Real-Estate images.\n",
        "\n",
        "From a broad perspective, such task is first adressed through a Multi-Layers Perceptron. Considering one step beyond, we will build a Convolution Neural Network and train it on the same dataset to except training for a classification purpose.*\n",
        "\n",
        "Dataset used is still the RES one and is therefore made of 11 classes.\n",
        "\n",
        "\n",
        "\n",
        "\n",
        "\n",
        "\n"
      ],
      "metadata": {
        "id": "SUWGSG1pcWDu"
      }
    },
    {
      "cell_type": "markdown",
      "source": [
        "## Setup\n",
        "\n",
        "Few core steps before delving into ML/DL code ☺️"
      ],
      "metadata": {
        "id": "uDriH-8JOhpB"
      }
    },
    {
      "cell_type": "markdown",
      "source": [
        "### Code dependencies. "
      ],
      "metadata": {
        "id": "9cu_L7vrPQBw"
      }
    },
    {
      "cell_type": "code",
      "source": [
        "## Install some librairies.\n",
        "!pip install opencv-python numpy torch torchvision "
      ],
      "metadata": {
        "id": "k2yNLzeqZhd3"
      },
      "execution_count": null,
      "outputs": []
    },
    {
      "cell_type": "code",
      "source": [
        "## Make sure the GPU is visible. \n",
        "import torch \n",
        "\n",
        "is_gpu_visible = torch.cuda.is_available()\n",
        "print(f'Is the GPU visible by Torch: {is_gpu_visible}')"
      ],
      "metadata": {
        "id": "pAAshdc7QGax",
        "outputId": "ca10506b-b93d-4256-b731-4eb2545f811b",
        "colab": {
          "base_uri": "https://localhost:8080/"
        }
      },
      "execution_count": 6,
      "outputs": [
        {
          "output_type": "stream",
          "name": "stdout",
          "text": [
            "Is the GPU visible by Torch: True\n"
          ]
        }
      ]
    },
    {
      "cell_type": "markdown",
      "source": [
        "### Mount Drive Volume \n",
        "\n",
        "*Required to get a direct access to the data we are going to use.*"
      ],
      "metadata": {
        "id": "zouWSCQyQo9F"
      }
    },
    {
      "cell_type": "code",
      "source": [
        "from google.colab import drive\n",
        "drive.mount('/content/drive/')"
      ],
      "metadata": {
        "colab": {
          "base_uri": "https://localhost:8080/"
        },
        "id": "edIjwdenkheS",
        "outputId": "efb4e36b-89c3-49cd-ae5f-18a2e559b1cf"
      },
      "execution_count": 7,
      "outputs": [
        {
          "output_type": "stream",
          "name": "stdout",
          "text": [
            "Mounted at /content/drive/\n"
          ]
        }
      ]
    },
    {
      "cell_type": "markdown",
      "source": [
        "## CNN training\n",
        "\n",
        "From "
      ],
      "metadata": {
        "id": "I9tRfP9JUCyJ"
      }
    },
    {
      "cell_type": "code",
      "source": [],
      "metadata": {
        "id": "a-xvxvHxULoT"
      },
      "execution_count": null,
      "outputs": []
    }
  ]
}